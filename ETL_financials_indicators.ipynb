{
 "cells": [
  {
   "cell_type": "markdown",
   "metadata": {},
   "source": [
    "### Financials Indicators"
   ]
  },
  {
   "cell_type": "markdown",
   "metadata": {},
   "source": [
    "Import"
   ]
  },
  {
   "cell_type": "code",
   "execution_count": 2,
   "metadata": {},
   "outputs": [],
   "source": [
    "import pandas_datareader as pdr\n",
    "import pandas_datareader.data as web\n",
    "import pandas as pd\n",
    "from datetime import datetime\n",
    "import numpy as np\n",
    "\n",
    "import pymssql "
   ]
  },
  {
   "cell_type": "markdown",
   "metadata": {},
   "source": [
    "data to conect"
   ]
  },
  {
   "cell_type": "code",
   "execution_count": 3,
   "metadata": {},
   "outputs": [],
   "source": [
    "_server=''\n",
    "_user=''\n",
    "_pass=''\n",
    "_db=''"
   ]
  },
  {
   "cell_type": "code",
   "execution_count": 4,
   "metadata": {},
   "outputs": [],
   "source": [
    "#Query para traer los indicadores financieros\n",
    "sql_indicators='''\n",
    "    SELECT\n",
    "        Id,\n",
    "        code,\n",
    "        description\n",
    "    FROM\n",
    "        dimIndicators   \n",
    "'''"
   ]
  },
  {
   "cell_type": "code",
   "execution_count": 5,
   "metadata": {},
   "outputs": [],
   "source": [
    "#Query para truncar la tabla de hechos\n",
    "sql_truncate = '''\n",
    " truncate table facIndicators\n",
    "'''"
   ]
  },
  {
   "cell_type": "code",
   "execution_count": 6,
   "metadata": {},
   "outputs": [],
   "source": [
    "# Regresa una coneccion\n",
    "def get_connection():\n",
    "    return pymssql.connect(server=_server, user=_user, password=_pass, database=_db)  "
   ]
  },
  {
   "cell_type": "code",
   "execution_count": 7,
   "metadata": {},
   "outputs": [],
   "source": [
    "# Query para regresar el max date por indicador\n",
    "def sql_maxDate(indicator):    \n",
    "        sql_indicators_max='''\n",
    "                select\n",
    "                    max([date]) as max_date\n",
    "                from\n",
    "                    facIndicators\n",
    "                where\n",
    "                    indicatorId={}\n",
    "\n",
    "        '''.format(indicator)\n",
    "        return sql_indicators_max"
   ]
  },
  {
   "cell_type": "code",
   "execution_count": 8,
   "metadata": {},
   "outputs": [],
   "source": [
    "#Funcion para regresar los indicadores financieros como un pandas dataFrame\n",
    "def return_indicators():\n",
    "    conn = pymssql.connect(server=_server, user=_user, password=_pass, database=_db)  \n",
    "    cursor=conn.cursor()\n",
    "    cursor.execute(sql_indicators)\n",
    "    return pd.read_sql(sql_indicators,conn)"
   ]
  },
  {
   "cell_type": "markdown",
   "metadata": {},
   "source": [
    "Get Yahoo Finance Data"
   ]
  },
  {
   "cell_type": "code",
   "execution_count": 9,
   "metadata": {},
   "outputs": [],
   "source": [
    "# Funcion para traer datos \n",
    "# load_init=0 trae los datos mas recientes\n",
    "# load_init=1 hacer una carga inicial con toda la información\n",
    "# Regresa la información como un pandas dataFrame\n",
    "\n",
    "def get_financial_data_code(code='BTC-USD', date_star=datetime.now(), date_end=datetime.now(),load_init=0):\n",
    "      if load_init==0:\n",
    "            df = web.DataReader(code, 'yahoo', start=date_star, end=date_end)  \n",
    "      else:\n",
    "            df = web.DataReader(code, 'yahoo')\n",
    "      return df"
   ]
  },
  {
   "cell_type": "code",
   "execution_count": 10,
   "metadata": {},
   "outputs": [],
   "source": [
    "#regresa el max date por inidicador financiero\n",
    "def get_financial_data(indicatorId,code):\n",
    "      sql=sql_maxDate(indicatorId)            \n",
    "      df=pd.read_sql(sql,get_connection())\n",
    "      return df    "
   ]
  },
  {
   "cell_type": "code",
   "execution_count": 11,
   "metadata": {},
   "outputs": [],
   "source": [
    "#Funcionar para insertar todos los datos\n",
    "def insert_financial_data(id,df):  \n",
    "    connection = get_connection()\n",
    "    cursor = connection.cursor()      \n",
    "    for index, row in df.iterrows():\n",
    "            sql_insert='''\n",
    "                        insert into facIndicators\n",
    "                        (                    \n",
    "                            indicatorId,\n",
    "                            [date],\n",
    "                            hight,\n",
    "\n",
    "                            [low],\n",
    "                            [open],\n",
    "                            [close],\n",
    "\n",
    "                            volume,\n",
    "                            adj_close                                              \n",
    "                        )\n",
    "                        values\n",
    "                        (\n",
    "                            {},\n",
    "                            {},\n",
    "                            {},\n",
    "\n",
    "                            {},\n",
    "                            {},\n",
    "                            {},\n",
    "\n",
    "                            {},\n",
    "                            {}                            \n",
    "                        )\n",
    "            '''.format(\n",
    "                        id, \n",
    "                        row[\"Date\"].strftime(\"'%Y-%m-%d'\"),                       \n",
    "                        round(float(row[\"High\"]),2),\n",
    "                        round(float(row[\"Low\"]),2),\n",
    "                        round(float(row[\"Open\"]),2),\n",
    "                        round(float(row[\"Close\"]),2),\n",
    "                        round(float(row[\"Volume\"]),2),\n",
    "                        round(float(row[\"Adj Close\"]),2),\n",
    "                    )    \n",
    "            cursor.execute(sql_insert)\n",
    "            \n",
    "    # commit the changes\n",
    "    connection.commit()\n",
    "    \n",
    "    # close the connection\n",
    "    connection.close()"
   ]
  },
  {
   "cell_type": "code",
   "execution_count": 11,
   "metadata": {},
   "outputs": [],
   "source": [
    "# trunca la tabla para llenarla de nuevo\n",
    "def truncate_financial_data():  \n",
    "    connection = get_connection()\n",
    "    cursor = connection.cursor()                             \n",
    "    cursor.execute(sql_truncate)  \n",
    "              \n",
    "    # commit the changes\n",
    "    connection.commit()\n",
    "    # close the connection\n",
    "    connection.close()\n",
    "\n"
   ]
  },
  {
   "cell_type": "markdown",
   "metadata": {},
   "source": [
    "Read financial Data"
   ]
  },
  {
   "cell_type": "code",
   "execution_count": 12,
   "metadata": {},
   "outputs": [],
   "source": [
    "# trae los datos de los indiadores financieros a llenar\n",
    "indicator_df=return_indicators()\n",
    "\n",
    "#limpio la tabla -- procedimiento temporal\n",
    "truncate_financial_data()\n",
    "\n",
    "#Por cada indicador trae su información y se inserta\n",
    "for index, row in indicator_df.iterrows():                \n",
    "        data_df=get_financial_data_code(row['code'],datetime.now(),datetime.now(),1)\n",
    "        data_df.reset_index(inplace=True)\n",
    "        insert_financial_data(int(row['Id']),data_df)"
   ]
  }
 ],
 "metadata": {
  "kernelspec": {
   "display_name": "Python 3.8.8 ('base')",
   "language": "python",
   "name": "python3"
  },
  "language_info": {
   "codemirror_mode": {
    "name": "ipython",
    "version": 3
   },
   "file_extension": ".py",
   "mimetype": "text/x-python",
   "name": "python",
   "nbconvert_exporter": "python",
   "pygments_lexer": "ipython3",
   "version": "3.8.8"
  },
  "orig_nbformat": 4,
  "vscode": {
   "interpreter": {
    "hash": "ad2bdc8ecc057115af97d19610ffacc2b4e99fae6737bb82f5d7fb13d2f2c186"
   }
  }
 },
 "nbformat": 4,
 "nbformat_minor": 2
}
